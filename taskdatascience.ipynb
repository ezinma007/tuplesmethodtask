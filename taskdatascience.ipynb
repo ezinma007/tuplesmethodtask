{
 "cells": [
  {
   "cell_type": "markdown",
   "id": "0f84c5f0",
   "metadata": {},
   "source": [
    "#                 Task:\n",
    "## Perform at least 5 tuple methods"
   ]
  },
  {
   "cell_type": "code",
   "execution_count": 1,
   "id": "75fc8313",
   "metadata": {},
   "outputs": [],
   "source": [
    "subjects = ('english', 'maths', 'biology','geography','agriculture')"
   ]
  },
  {
   "cell_type": "markdown",
   "id": "77eb3633",
   "metadata": {},
   "source": [
    "## 1.  len() - It returns the number of elements in a tuple"
   ]
  },
  {
   "cell_type": "code",
   "execution_count": 4,
   "id": "bdf87747",
   "metadata": {},
   "outputs": [
    {
     "data": {
      "text/plain": [
       "5"
      ]
     },
     "execution_count": 4,
     "metadata": {},
     "output_type": "execute_result"
    }
   ],
   "source": [
    "len(subjects)"
   ]
  },
  {
   "cell_type": "markdown",
   "id": "018dbd75",
   "metadata": {},
   "source": [
    "## 2. sorted() -Returns a new sorted list"
   ]
  },
  {
   "cell_type": "code",
   "execution_count": 17,
   "id": "c7d685f1",
   "metadata": {},
   "outputs": [
    {
     "data": {
      "text/plain": [
       "['agriculture', 'biology', 'english', 'geography', 'maths']"
      ]
     },
     "execution_count": 17,
     "metadata": {},
     "output_type": "execute_result"
    }
   ],
   "source": [
    "sorted(subjects)"
   ]
  },
  {
   "cell_type": "markdown",
   "id": "a970bd9a",
   "metadata": {},
   "source": [
    "## 3.  Index() - Index shows the index of an item in a tuple.\n"
   ]
  },
  {
   "cell_type": "code",
   "execution_count": 8,
   "id": "7e101113",
   "metadata": {},
   "outputs": [
    {
     "data": {
      "text/plain": [
       "3"
      ]
     },
     "execution_count": 8,
     "metadata": {},
     "output_type": "execute_result"
    }
   ],
   "source": [
    "subjects.index('geography')"
   ]
  },
  {
   "cell_type": "markdown",
   "id": "d48e4b98",
   "metadata": {},
   "source": [
    "## 4. count() - Returns the count of an element in a given sequence"
   ]
  },
  {
   "cell_type": "code",
   "execution_count": 9,
   "id": "817573c5",
   "metadata": {},
   "outputs": [
    {
     "data": {
      "text/plain": [
       "1"
      ]
     },
     "execution_count": 9,
     "metadata": {},
     "output_type": "execute_result"
    }
   ],
   "source": [
    "subjects.count('maths')"
   ]
  },
  {
   "cell_type": "markdown",
   "id": "26665865",
   "metadata": {},
   "source": [
    "## 5. tuple() - Creates tuples from different types of values"
   ]
  },
  {
   "cell_type": "code",
   "execution_count": 10,
   "id": "670cbaa4",
   "metadata": {},
   "outputs": [
    {
     "data": {
      "text/plain": [
       "('money', 'property', 'cars', 'vacations')"
      ]
     },
     "execution_count": 10,
     "metadata": {},
     "output_type": "execute_result"
    }
   ],
   "source": [
    "wish_list = ['money', 'property', 'cars','vacations']   # create a list\n",
    "tuple(wish_list)                                        # use tuple() to change list to a tuple."
   ]
  }
 ],
 "metadata": {
  "kernelspec": {
   "display_name": "Python 3 (ipykernel)",
   "language": "python",
   "name": "python3"
  },
  "language_info": {
   "codemirror_mode": {
    "name": "ipython",
    "version": 3
   },
   "file_extension": ".py",
   "mimetype": "text/x-python",
   "name": "python",
   "nbconvert_exporter": "python",
   "pygments_lexer": "ipython3",
   "version": "3.9.13"
  }
 },
 "nbformat": 4,
 "nbformat_minor": 5
}
